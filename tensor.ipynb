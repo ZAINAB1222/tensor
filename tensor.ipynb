{
 "cells": [
  {
   "cell_type": "code",
   "execution_count": 15,
   "id": "625a405c",
   "metadata": {},
   "outputs": [
    {
     "name": "stdout",
     "output_type": "stream",
     "text": [
      "Defaulting to user installation because normal site-packages is not writeable\n",
      "Collecting tensor\n",
      "  Using cached tensor-0.3.6.tar.gz (50 kB)\n",
      "  Preparing metadata (setup.py): started\n",
      "  Preparing metadata (setup.py): finished with status 'done'\n",
      "Collecting flow\n",
      "  Using cached flow-0.1.2.tar.gz (139 kB)\n",
      "  Preparing metadata (setup.py): started\n",
      "  Preparing metadata (setup.py): finished with status 'error'\n",
      "Note: you may need to restart the kernel to use updated packages.\n"
     ]
    },
    {
     "name": "stderr",
     "output_type": "stream",
     "text": [
      "  error: subprocess-exited-with-error\n",
      "  \n",
      "  python setup.py egg_info did not run successfully.\n",
      "  exit code: 1\n",
      "  \n",
      "  [8 lines of output]\n",
      "  Traceback (most recent call last):\n",
      "    File \"<string>\", line 2, in <module>\n",
      "    File \"<pip-setuptools-caller>\", line 34, in <module>\n",
      "    File \"C:\\Users\\coco2\\AppData\\Local\\Temp\\pip-install-1ug83er_\\flow_e7389a7834c44ed6b8c6d992c3445ee3\\setup.py\", line 35, in <module>\n",
      "      long_description = f.read()\n",
      "    File \"C:\\ProgramData\\Anaconda3\\lib\\encodings\\cp1252.py\", line 23, in decode\n",
      "      return codecs.charmap_decode(input,self.errors,decoding_table)[0]\n",
      "  UnicodeDecodeError: 'charmap' codec can't decode byte 0x9d in position 2601: character maps to <undefined>\n",
      "  [end of output]\n",
      "  \n",
      "  note: This error originates from a subprocess, and is likely not a problem with pip.\n",
      "error: metadata-generation-failed\n",
      "\n",
      "Encountered error while generating package metadata.\n",
      "\n",
      "See above for output.\n",
      "\n",
      "note: This is an issue with the package mentioned above, not pip.\n",
      "hint: See above for details.\n"
     ]
    }
   ],
   "source": [
    "pip install tensor flow"
   ]
  },
  {
   "cell_type": "code",
   "execution_count": 16,
   "id": "7a2bd2e0",
   "metadata": {},
   "outputs": [],
   "source": [
    "#Import modules\n",
    "import tensorflow as tf\n",
    "from tensorflow import keras\n",
    "import os, datetime"
   ]
  },
  {
   "cell_type": "code",
   "execution_count": 17,
   "id": "6dbd52f2",
   "metadata": {},
   "outputs": [],
   "source": [
    "mnist = tf.keras.datasets.mnist"
   ]
  },
  {
   "cell_type": "code",
   "execution_count": 18,
   "id": "b5426313",
   "metadata": {},
   "outputs": [
    {
     "name": "stdout",
     "output_type": "stream",
     "text": [
      "Downloading data from https://storage.googleapis.com/tensorflow/tf-keras-datasets/mnist.npz\n",
      "11490434/11490434 [==============================] - 4s 0us/step\n"
     ]
    }
   ],
   "source": [
    "(x_train, y_train),(x_test, y_test) = mnist.load_data()"
   ]
  },
  {
   "cell_type": "code",
   "execution_count": 19,
   "id": "1c3e9b2b",
   "metadata": {},
   "outputs": [
    {
     "name": "stdout",
     "output_type": "stream",
     "text": [
      "Shape is: (28, 28)\n"
     ]
    },
    {
     "data": {
      "image/png": "[encoded data removed]",
      "text/plain": [
       "<Figure size 640x480 with 1 Axes>"
      ]
     },
     "metadata": {},
     "output_type": "display_data"
    },
    {
     "name": "stdout",
     "output_type": "stream",
     "text": [
      "First Digit in y_train is 5\n"
     ]
    }
   ],
   "source": [
    "print(\"Shape is:\", x_train[0].shape)\n",
    "#print(\"Sample data from data set is:\\n\",x_train[0])\n",
    "import matplotlib.pyplot as plt\n",
    "plt.imshow(x_train[0])\n",
    "plt.show()\n",
    "print(\"First Digit in y_train is\",y_train[0])"
   ]
  },
  {
   "cell_type": "code",
   "execution_count": 24,
   "id": "62d50021",
   "metadata": {},
   "outputs": [],
   "source": [
    "x_train, x_test = x_train / 255.0, x_test / 255.0\n",
    "#x_train[0]"
   ]
  },
  {
   "cell_type": "code",
   "execution_count": 29,
   "id": "b0cbab00",
   "metadata": {},
   "outputs": [],
   "source": [
    "#def create_model():\n",
    "model = tf.keras.models.Sequential([\n",
    "tf.keras.layers.Flatten(input_shape=(28, 28)),\n",
    "tf.keras.layers.Dense(512, activation='relu'),\n",
    "tf.keras.layers.Dropout(0.2),\n",
    "tf.keras.layers.Dense(10, activation='softmax')])"
   ]
  },
  {
   "cell_type": "code",
   "execution_count": 31,
   "id": "707bb6fa",
   "metadata": {},
   "outputs": [],
   "source": [
    "#model=create_model()\n",
    "# Compile the model\n",
    "model.compile(optimizer='adam',\n",
    "loss='sparse_categorical_crossentropy',\n",
    "metrics=['accuracy'])"
   ]
  },
  {
   "cell_type": "code",
   "execution_count": 33,
   "id": "4788451d",
   "metadata": {},
   "outputs": [],
   "source": [
    "logdir = os.path.join(\"logs\", datetime.datetime.now().strftime(\"%Y%m%d-%H%M%S\"))\n",
    "tensorboard_callback = tf.keras.callbacks.TensorBoard(logdir, histogram_freq=1)"
   ]
  },
  {
   "cell_type": "code",
   "execution_count": 35,
   "id": "c606b297",
   "metadata": {},
   "outputs": [],
   "source": [
    "checkpoint_path = \"training_2/cp-{epoch:04d}.ckpt\"\n",
    "checkpoint_dir = os.path.dirname(checkpoint_path)\n",
    "checkpoint_callback = tf.keras.callbacks.ModelCheckpoint(\n",
    "checkpoint_path, monitor='val_acc', verbose=1, save_weights_only=True,\n",
    "# Save weights, every epoch.\n",
    "save_freq='epoch')"
   ]
  },
  {
   "cell_type": "code",
   "execution_count": 36,
   "id": "b93fb75f",
   "metadata": {},
   "outputs": [
    {
     "name": "stdout",
     "output_type": "stream",
     "text": [
      "Epoch 1/5\n",
      "1875/1875 [==============================] - ETA: 0s - loss: 2.3015 - accuracy: 0.1115\n",
      "Epoch 1: saving model to training_2\\cp-0001.ckpt\n",
      "1875/1875 [==============================] - 13s 7ms/step - loss: 2.3015 - accuracy: 0.1115 - val_loss: 2.3007 - val_accuracy: 0.1135\n",
      "Epoch 2/5\n",
      "1868/1875 [============================>.] - ETA: 0s - loss: 2.3008 - accuracy: 0.1124\n",
      "Epoch 2: saving model to training_2\\cp-0002.ckpt\n",
      "1875/1875 [==============================] - 12s 6ms/step - loss: 2.3008 - accuracy: 0.1124 - val_loss: 2.2997 - val_accuracy: 0.1135\n",
      "Epoch 3/5\n",
      "1873/1875 [============================>.] - ETA: 0s - loss: 2.2987 - accuracy: 0.1123\n",
      "Epoch 3: saving model to training_2\\cp-0003.ckpt\n",
      "1875/1875 [==============================] - 12s 6ms/step - loss: 2.2987 - accuracy: 0.1124 - val_loss: 2.2968 - val_accuracy: 0.1135\n",
      "Epoch 4/5\n",
      "1871/1875 [============================>.] - ETA: 0s - loss: 2.2915 - accuracy: 0.1262\n",
      "Epoch 4: saving model to training_2\\cp-0004.ckpt\n",
      "1875/1875 [==============================] - 12s 6ms/step - loss: 2.2914 - accuracy: 0.1263 - val_loss: 2.2842 - val_accuracy: 0.1983\n",
      "Epoch 5/5\n",
      "1874/1875 [============================>.] - ETA: 0s - loss: 2.2735 - accuracy: 0.1709\n",
      "Epoch 5: saving model to training_2\\cp-0005.ckpt\n",
      "1875/1875 [==============================] - 12s 6ms/step - loss: 2.2735 - accuracy: 0.1709 - val_loss: 2.2578 - val_accuracy: 0.1600\n",
      "313/313 [==============================] - 0s 2ms/step - loss: 2.2578 - accuracy: 0.1600\n",
      "Original model, accuracy: 16.00%\n"
     ]
    }
   ],
   "source": [
    "history = model.fit(x_train, y_train, epochs=5,validation_data=(x_test, y_test), callbacks=[tensorboard_callback, checkpoint_callback])\n",
    "loss, acc = model.evaluate(x_test, y_test,verbose=1)\n",
    "print(\"Original model, accuracy: {:5.2f}%\".format(100*acc))"
   ]
  },
  {
   "cell_type": "code",
   "execution_count": 37,
   "id": "a9698064",
   "metadata": {},
   "outputs": [
    {
     "name": "stderr",
     "output_type": "stream",
     "text": [
      "WARNING:absl:Found untraced functions such as _update_step_xla while saving (showing 1 of 1). These functions will not be directly callable after loading.\n"
     ]
    },
    {
     "name": "stdout",
     "output_type": "stream",
     "text": [
      "INFO:tensorflow:Assets written to: MyModel\\assets\n"
     ]
    },
    {
     "name": "stderr",
     "output_type": "stream",
     "text": [
      "INFO:tensorflow:Assets written to: MyModel\\assets\n"
     ]
    }
   ],
   "source": [
    "model.save('MyModel',save_format='tf')"
   ]
  },
  {
   "cell_type": "code",
   "execution_count": 38,
   "id": "cbf3432f",
   "metadata": {},
   "outputs": [
    {
     "name": "stdout",
     "output_type": "stream",
     "text": [
      "313/313 [==============================] - 1s 2ms/step - loss: 2.2578 - accuracy: 0.1600\n",
      "Loaded model, accuracy: 16.00%\n"
     ]
    }
   ],
   "source": [
    "loaded_model = tf.keras.models.load_model('MyModel')\n",
    "loaded_loss, loaded_acc = loaded_model.evaluate(x_test, y_test,verbose=1)\n",
    "print(\"Loaded model, accuracy: {:5.2f}%\".format(100*loaded_acc))"
   ]
  },
  {
   "cell_type": "code",
   "execution_count": 39,
   "id": "b56fdab1",
   "metadata": {},
   "outputs": [],
   "source": [
    "#%load_ext tensorboard"
   ]
  },
  {
   "cell_type": "code",
   "execution_count": 40,
   "id": "2e0ff57e",
   "metadata": {},
   "outputs": [
    {
     "data": {
      "image/png": "[encoded data removed]",
      "text/plain": [
       "<Figure size 640x480 with 1 Axes>"
      ]
     },
     "metadata": {},
     "output_type": "display_data"
    }
   ],
   "source": [
    "#%tensorboard --logdir logs\n",
    "\n",
    "# Plot accuracy and loss\n",
    "import matplotlib.pyplot as plt\n",
    "# summarize history for accuracy\n",
    "plt.plot(history.history['accuracy'],'-*')\n",
    "plt.plot(history.history['val_accuracy'],'--o')\n",
    "plt.title('Accuracy: Train and Validation', fontsize=14, fontweight='bold')\n",
    "plt.ylabel('Accuracy', fontsize=12, fontweight='bold')\n",
    "plt.xlabel('Epochs', fontsize=12, fontweight='bold')\n",
    "plt.legend([\"Train\",\"Validation\"], loc=\"upper left\")\n",
    "plt.show()\n",
    "# summarize history for accuracy\n",
    "# plt.plot(history.history['loss'],'-*')\n",
    "# plt.plot(history.history['val_loss'],'--o')\n",
    "# plt.title('Loss: Train and Validation', fontsize=14, fontweight='bold')\n",
    "# plt.ylabel('Loss', fontsize=12, fontweight='bold')\n",
    "# plt.xlabel('Epochs', fontsize=12, fontweight='bold')\n",
    "# plt.legend([\"Train\",\"Validation\"], loc=\"upper left\")\n",
    "# plt.show()"
   ]
  },
  {
   "cell_type": "code",
   "execution_count": null,
   "id": "f67891b6",
   "metadata": {},
   "outputs": [],
   "source": []
  }
 ],
 "metadata": {
  "kernelspec": {
   "display_name": "Python 3 (ipykernel)",
   "language": "python",
   "name": "python3"
  },
  "language_info": {
   "codemirror_mode": {
    "name": "ipython",
    "version": 3
   },
   "file_extension": ".py",
   "mimetype": "text/x-python",
   "name": "python",
   "nbconvert_exporter": "python",
   "pygments_lexer": "ipython3",
   "version": "3.9.13"
  }
 },
 "nbformat": 4,
 "nbformat_minor": 5
}
